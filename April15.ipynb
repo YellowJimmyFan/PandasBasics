{
 "cells": [
  {
   "cell_type": "code",
   "execution_count": 3,
   "id": "5aa1f904-cab6-4447-97ac-2ffe1ffb8737",
   "metadata": {},
   "outputs": [],
   "source": [
    "import numpy as np\n",
    "import pandas as pd"
   ]
  },
  {
   "cell_type": "code",
   "execution_count": 11,
   "id": "c4661ec2-3af8-417e-aeb0-42f399dfed81",
   "metadata": {},
   "outputs": [
    {
     "name": "stdout",
     "output_type": "stream",
     "text": [
      "                   A         B         C         D    E\n",
      "2013-01-01  0.007809  0.227428  0.059935  0.207221  1.0\n",
      "2013-01-02  1.012172  0.579822 -0.079289 -0.056313  1.0\n",
      "2013-01-03 -0.268529 -1.258363 -1.106905 -0.690886  NaN\n",
      "2013-01-04 -0.815075 -0.278079  0.510679 -0.688708  NaN\n",
      "                   A         B         C         D    E\n",
      "2013-01-01  0.007809  0.227428  0.059935  0.207221  1.0\n",
      "2013-01-02  1.012172  0.579822 -0.079289 -0.056313  1.0\n"
     ]
    }
   ],
   "source": [
    "dates = pd.date_range(\"20130101\", periods=6)\n",
    "df = pd.DataFrame(np.random.randn(6, 4), index=dates, columns=list(\"ABCD\"))\n",
    "\n",
    "df1 = df.reindex(index=dates[0:4], columns=list(df.columns) + [\"E\"])\n",
    "df1.loc[dates[0] : dates[1], \"E\"] = 1\n",
    "print(df1)\n",
    "print(df1.dropna(how=\"any\"))"
   ]
  }
 ],
 "metadata": {
  "kernelspec": {
   "display_name": "Python 3 (ipykernel)",
   "language": "python",
   "name": "python3"
  },
  "language_info": {
   "codemirror_mode": {
    "name": "ipython",
    "version": 3
   },
   "file_extension": ".py",
   "mimetype": "text/x-python",
   "name": "python",
   "nbconvert_exporter": "python",
   "pygments_lexer": "ipython3",
   "version": "3.11.9"
  }
 },
 "nbformat": 4,
 "nbformat_minor": 5
}
