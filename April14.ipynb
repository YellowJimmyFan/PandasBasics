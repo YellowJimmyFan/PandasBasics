{
 "cells": [
  {
   "cell_type": "code",
   "execution_count": 3,
   "id": "c1fa0b6c-3922-4d62-a52e-83cd7ca652ed",
   "metadata": {},
   "outputs": [],
   "source": [
    "import pandas as pd\n",
    "import numpy as np"
   ]
  },
  {
   "cell_type": "code",
   "execution_count": 39,
   "id": "47c0faa7-52bc-4f05-9c10-f48defbfb9af",
   "metadata": {},
   "outputs": [],
   "source": [
    "dates = pd.date_range(\"20130101\", periods=6)\n",
    "df = pd.DataFrame(np.random.randn(6, 4), index=list(\"123456\"), columns=list(\"DBCA\"))\n",
    "df2 = pd.DataFrame(\n",
    "    {\n",
    "        \"A\": 1.0,\n",
    "        \"B\": pd.Timestamp(\"20130102\"),\n",
    "        \"C\": pd.Series(1, index=list(range(4)), dtype=\"float32\"),\n",
    "        \"D\": np.array([3] * 4, dtype=\"int32\"),\n",
    "        \"E\": pd.Categorical([\"test\", \"train\", \"test\", \"train\"]),\n",
    "        \"F\": \"foo\",\n",
    "    }\n",
    ")"
   ]
  },
  {
   "cell_type": "code",
   "execution_count": 11,
   "id": "b319030e-6688-435c-a570-b1f1af9c2775",
   "metadata": {},
   "outputs": [
    {
     "name": "stdout",
     "output_type": "stream",
     "text": [
      "A          float64\n",
      "B    datetime64[s]\n",
      "C          float32\n",
      "D            int32\n",
      "E         category\n",
      "F           object\n",
      "dtype: object\n",
      "<bound method DataFrame.add of      A          B    C  D      E    F\n",
      "0  1.0 2013-01-02  1.0  3   test  foo\n",
      "1  1.0 2013-01-02  1.0  3  train  foo\n",
      "2  1.0 2013-01-02  1.0  3   test  foo\n",
      "3  1.0 2013-01-02  1.0  3  train  foo>\n"
     ]
    }
   ],
   "source": [
    "print(df2.dtypes)\n",
    "print(df2.add)"
   ]
  },
  {
   "cell_type": "code",
   "execution_count": 42,
   "id": "e14d3672-1f19-4b14-9ed6-542f64dedced",
   "metadata": {},
   "outputs": [
    {
     "name": "stdout",
     "output_type": "stream",
     "text": [
      "          D         B         C         A\n",
      "2 -0.164645  0.001666 -0.019758 -0.674254\n",
      "3 -0.310282  2.431464 -0.963391 -1.289788\n",
      "4 -1.212123 -0.177799  0.568184 -0.523920\n",
      "5  0.158613 -0.164476  0.568015  1.020772\n",
      "6  1.316136  0.114431 -1.010748 -0.112808\n",
      "Index(['1', '2', '3', '4', '5', '6'], dtype='object')\n",
      "              D         B         C         A\n",
      "count  6.000000  6.000000  6.000000  6.000000\n",
      "mean  -0.544801  0.449328 -0.117711 -0.494229\n",
      "std    1.477253  1.001317  0.712095  0.883296\n",
      "min   -3.056507 -0.177799 -1.010748 -1.385377\n",
      "25%   -0.986663 -0.122940 -0.727483 -1.135905\n",
      "50%   -0.237464  0.058049  0.065838 -0.599087\n",
      "75%    0.077799  0.396617  0.463869 -0.215586\n",
      "max    1.316136  2.431464  0.568184  1.020772\n",
      "          1         2         3         4         5         6\n",
      "D -3.056507 -0.164645 -0.310282 -1.212123  0.158613  1.316136\n",
      "B  0.490679  0.001666  2.431464 -0.177799 -0.164476  0.114431\n",
      "C  0.151433 -0.019758 -0.963391  0.568184  0.568015 -1.010748\n",
      "A -1.385377 -0.674254 -1.289788 -0.523920  1.020772 -0.112808\n",
      "          D         B         C         A\n",
      "1 -3.056507  0.490679  0.151433 -1.385377\n",
      "2 -0.164645  0.001666 -0.019758 -0.674254\n",
      "3 -0.310282  2.431464 -0.963391 -1.289788\n",
      "4 -1.212123 -0.177799  0.568184 -0.523920\n",
      "5  0.158613 -0.164476  0.568015  1.020772\n",
      "rownames Index(['1', '2', '3', '4', '5', '6'], dtype='object')\n",
      "          A         B         C         D\n",
      "1 -1.385377  0.490679  0.151433 -3.056507\n",
      "2 -0.674254  0.001666 -0.019758 -0.164645\n",
      "3 -1.289788  2.431464 -0.963391 -0.310282\n",
      "4 -0.523920 -0.177799  0.568184 -1.212123\n",
      "5  1.020772 -0.164476  0.568015  0.158613\n",
      "6 -0.112808  0.114431 -1.010748  1.316136\n",
      "          D         B         C         A\n",
      "1 -3.056507  0.490679  0.151433 -1.385377\n",
      "3 -0.310282  2.431464 -0.963391 -1.289788\n",
      "2 -0.164645  0.001666 -0.019758 -0.674254\n",
      "4 -1.212123 -0.177799  0.568184 -0.523920\n",
      "6  1.316136  0.114431 -1.010748 -0.112808\n",
      "5  0.158613 -0.164476  0.568015  1.020772\n"
     ]
    }
   ],
   "source": [
    "print(df.tail())\n",
    "print(df.index)\n",
    "print(df.describe())\n",
    "print(df.T)\n",
    "print(df.head())\n",
    "print(\"rownames\", df.index)\n",
    "print(df.sort_index(axis=1))\n",
    "print(df.sort_values(by=\"A\"))"
   ]
  },
  {
   "cell_type": "code",
   "execution_count": 62,
   "id": "da701717-7d73-45e3-9280-c586a5e1b266",
   "metadata": {},
   "outputs": [
    {
     "name": "stdout",
     "output_type": "stream",
     "text": [
      "-1.3853765627403378\n",
      "-3.0565070030740316\n",
      "D   -3.056507\n",
      "B    0.490679\n",
      "C    0.151433\n",
      "A   -1.385377\n",
      "Name: 1, dtype: float64\n",
      "1   -1.385377\n",
      "2   -0.674254\n",
      "3   -1.289788\n",
      "4   -0.523920\n",
      "5    1.020772\n",
      "6   -0.112808\n",
      "Name: A, dtype: float64\n",
      "          A         B\n",
      "1 -1.385377  0.490679\n",
      "2 -0.674254  0.001666\n",
      "3 -1.289788  2.431464\n",
      "4 -0.523920 -0.177799\n",
      "5  1.020772 -0.164476\n",
      "6 -0.112808  0.114431\n",
      "          D         B         C         A\n",
      "2 -0.164645  0.001666 -0.019758 -0.674254\n",
      "3 -0.310282  2.431464 -0.963391 -1.289788\n",
      "          D         B         C         A\n",
      "2 -0.164645  0.001666 -0.019758 -0.674254\n",
      "3 -0.310282  2.431464 -0.963391 -1.289788\n",
      "1 -3.056507  0.490679  0.151433 -1.385377\n"
     ]
    }
   ],
   "source": [
    "print(df.at['1', 'A'])\n",
    "print(df.iat[0, 0])\n",
    "print(df.loc['1'])\n",
    "print(df.loc[:,'A'])\n",
    "print(df[[\"A\", \"B\"]])\n",
    "print(df[1:3])\n",
    "print(df.loc[['2', '3', '1'], : ])"
   ]
  }
 ],
 "metadata": {
  "kernelspec": {
   "display_name": "Python 3 (ipykernel)",
   "language": "python",
   "name": "python3"
  },
  "language_info": {
   "codemirror_mode": {
    "name": "ipython",
    "version": 3
   },
   "file_extension": ".py",
   "mimetype": "text/x-python",
   "name": "python",
   "nbconvert_exporter": "python",
   "pygments_lexer": "ipython3",
   "version": "3.11.9"
  }
 },
 "nbformat": 4,
 "nbformat_minor": 5
}
